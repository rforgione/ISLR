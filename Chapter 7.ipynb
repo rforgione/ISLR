{
 "cells": [
  {
   "cell_type": "markdown",
   "metadata": {},
   "source": [
    "Note: all corrections come from [here](http://blog.princehonest.com/stat-learning/)."
   ]
  },
  {
   "cell_type": "markdown",
   "metadata": {},
   "source": [
    "# Conceptual"
   ]
  },
  {
   "cell_type": "markdown",
   "metadata": {},
   "source": [
    "## 1."
   ]
  },
  {
   "cell_type": "markdown",
   "metadata": {},
   "source": [
    "### (a)"
   ]
  },
  {
   "cell_type": "markdown",
   "metadata": {},
   "source": [
    "#### My Solution:"
   ]
  },
  {
   "cell_type": "markdown",
   "metadata": {},
   "source": [
    "$f_1 (x) = \\beta_0 + \\beta_1 x + \\beta_2 x^2 + \\beta_3 x^3 + \\beta_4(x - \\xi)^3 $"
   ]
  },
  {
   "cell_type": "markdown",
   "metadata": {},
   "source": [
    "#### Correct Solution:"
   ]
  },
  {
   "cell_type": "markdown",
   "metadata": {},
   "source": [
    "$f_1 (x) = \\beta_0 + \\beta_1 x + \\beta_2 x^2 + \\beta_3 x^3 $"
   ]
  },
  {
   "cell_type": "markdown",
   "metadata": {},
   "source": [
    "#### Corrections:"
   ]
  },
  {
   "cell_type": "markdown",
   "metadata": {},
   "source": [
    "For the cubic regression spline, we use the term $ (x - \\xi)_+^3 $ which is equal to $ (x - \\xi)^3 $ *if and only if* $ x > \\xi $. Since this question asks about scenarios where $ x \\leq \\xi $, the answer should actually be $ f_1 (x) = \\beta_0 + \\beta_1 x + \\beta_2 x^2 + \\beta_3 x^3 $ without the continuity term $ (x - \\xi)^3 $."
   ]
  },
  {
   "cell_type": "markdown",
   "metadata": {},
   "source": [
    "### (b)"
   ]
  },
  {
   "cell_type": "markdown",
   "metadata": {},
   "source": [
    "#### My Solution:"
   ]
  },
  {
   "cell_type": "markdown",
   "metadata": {},
   "source": [
    "$$ f_2(x) = \\beta_0 + \\beta_1x + \\beta_2x^2 + \\beta_3x^3 + \\beta_4(x - \\xi)^3 $$\n",
    "$$ = ... + (x - \\xi)(x - \\xi)(x - \\xi)$$\n",
    "$$ = ... + (x^2 - 2x\\xi + \\xi^2) (x - \\xi) $$\n",
    "$$ = ... + (x^3 - 2x^2\\xi + x\\xi^2) - (x^2\\xi - 2x\\xi^2 + \\xi^3) $$\n",
    "$$ = ... + x^3 - 2x^2\\xi + x\\xi^2 - x^2\\xi + 2x\\xi^2 - \\xi^3 $$\n",
    "$$ = ... + x^3 - 3x^2\\xi + 3x\\xi^2 - \\xi^3 $$"
   ]
  },
  {
   "cell_type": "markdown",
   "metadata": {},
   "source": [
    "#### Correct Solution:"
   ]
  },
  {
   "cell_type": "markdown",
   "metadata": {},
   "source": [
    "$$ f_2(x) = \\beta_0 + \\beta_1x + \\beta_2x^2 + \\beta_3x^3 + \\beta_4(x - \\xi)^3 $$\n",
    "$$ = ... + \\beta_4((x - \\xi)(x - \\xi)(x - \\xi))$$\n",
    "$$ = ... + \\beta_4((x^2 - 2x\\xi + \\xi^2) (x - \\xi)) $$\n",
    "$$ = ... + \\beta_4((x^3 - 2x^2\\xi + x\\xi^2) - (x^2\\xi - 2x\\xi^2 + \\xi^3)) $$\n",
    "$$ = ... + \\beta_4(x^3 - 2x^2\\xi + x\\xi^2 - x^2\\xi + 2x\\xi^2 - \\xi^3) $$\n",
    "$$ = ... + \\beta_4(x^3 - 3x^2\\xi + 3x\\xi^2 - \\xi^3) $$\n",
    "$$ f_2(x) = \\beta_0 + \\beta_1x + \\beta_2x^2 + \\beta_3x^3 + \\beta_4(x^3 - 3x^2\\xi + 3x\\xi^2 - \\xi^3) $$\n",
    "$$ = (\\beta_0 - \\beta_4\\xi^3) + (\\beta_1 + 3\\beta_4\\xi^2)x + (\\beta_2 - 3\\beta_4\\xi)x^2 + (\\beta_3 + \\beta_4)x^3 $$"
   ]
  },
  {
   "cell_type": "markdown",
   "metadata": {},
   "source": [
    "#### Corrections:"
   ]
  },
  {
   "cell_type": "markdown",
   "metadata": {},
   "source": [
    "Two issues here:\n",
    "1. I forgot to finally multiply all of these expanded terms by $\\beta_4$\n",
    "2. I could have simplified one step further\n",
    "\n",
    "$$ f_2(x) = \\beta_0 + \\beta_1x + \\beta_2x^2 + \\beta_3x^3 + \\beta_4(x^3 - 3x^2\\xi + 3x\\xi^2 - \\xi^3) $$\n",
    "$$ = (\\beta_0 - \\beta_4\\xi^3) + (\\beta_1 + 3\\beta_4\\xi^2)x + (\\beta_2 + 3\\beta_4\\xi)x^2 + (\\beta_3 + \\beta_4)x^3 $$"
   ]
  },
  {
   "cell_type": "markdown",
   "metadata": {},
   "source": [
    "### (c)"
   ]
  },
  {
   "cell_type": "markdown",
   "metadata": {},
   "source": [
    "#### My Solution:"
   ]
  },
  {
   "cell_type": "markdown",
   "metadata": {},
   "source": [
    "$$ f_1(\\xi) = \\beta_0 + \\beta_1\\xi + \\beta_2\\xi^2 + \\beta_3\\xi^3 $$<br/>\n",
    "$$ f_2(\\xi) = (\\beta_0 - \\beta_4\\xi^3) + (\\beta_1 + 3\\beta_4\\xi^2)\\xi + (\\beta_2 - 3\\beta_4\\xi)\\xi^2 + (\\beta_3 + \\beta_4)\\xi^3 $$ <br/>\n",
    "$$ = \\beta_0 - \\beta_4\\xi^3 + \\beta_1\\xi + 3\\beta_4\\xi^3 + \\beta_2\\xi^2 - 3\\beta_4\\xi^3 + \\beta_3\\xi^3 + \\beta_4\\xi^3 $$<br/>\n",
    "$$ = \\beta_0 + \\beta_1\\xi + \\beta_2\\xi^2 + \\beta_3\\xi^3 = f_1(\\xi) $$<br/>"
   ]
  },
  {
   "cell_type": "markdown",
   "metadata": {},
   "source": [
    "#### Correct Solution:"
   ]
  },
  {
   "cell_type": "markdown",
   "metadata": {},
   "source": [
    "My solution was correct!"
   ]
  },
  {
   "cell_type": "markdown",
   "metadata": {},
   "source": [
    "#### Corrections:"
   ]
  },
  {
   "cell_type": "markdown",
   "metadata": {},
   "source": [
    "None!"
   ]
  },
  {
   "cell_type": "markdown",
   "metadata": {},
   "source": [
    "### (d)"
   ]
  },
  {
   "cell_type": "markdown",
   "metadata": {},
   "source": [
    "#### My Solution:"
   ]
  },
  {
   "cell_type": "markdown",
   "metadata": {},
   "source": [
    "$$ f_1'(\\xi) = \\beta_1 + 2\\beta_2\\xi + 3\\beta_3\\xi^2 $$ <br/>\n",
    "$$ f_2'(\\xi) = (\\beta_1 + 3\\beta_4\\xi^2) + 2(\\beta_2 - 3\\beta_4\\xi)\\xi + 3(\\beta_3 + \\beta_4)\\xi^2 $$"
   ]
  },
  {
   "cell_type": "markdown",
   "metadata": {},
   "source": [
    "Then we can expand the polynomial:"
   ]
  },
  {
   "cell_type": "markdown",
   "metadata": {},
   "source": [
    "$$= \\beta_1 + 3\\beta_4\\xi^2 + 2\\beta_2\\xi - 6\\beta_4\\xi^2 + 3\\beta_3\\xi^2 + 3\\beta_4\\xi^2 $$"
   ]
  },
  {
   "cell_type": "markdown",
   "metadata": {},
   "source": [
    "Then we cancel (keep in mind that the $6\\beta_4\\xi^2$ cancels both the $3\\beta_4\\xi^2$'s:"
   ]
  },
  {
   "cell_type": "markdown",
   "metadata": {},
   "source": [
    "$$ = \\beta_1 + 2\\beta_2\\xi + 3\\beta_3\\xi^2 = f_1'(\\xi)$$ "
   ]
  },
  {
   "cell_type": "markdown",
   "metadata": {},
   "source": [
    "#### Correct solution:"
   ]
  },
  {
   "cell_type": "markdown",
   "metadata": {},
   "source": [
    "My solution was correct."
   ]
  },
  {
   "cell_type": "markdown",
   "metadata": {},
   "source": [
    "#### Corrections:"
   ]
  },
  {
   "cell_type": "markdown",
   "metadata": {},
   "source": [
    "None."
   ]
  },
  {
   "cell_type": "markdown",
   "metadata": {},
   "source": [
    "### (e)"
   ]
  },
  {
   "cell_type": "markdown",
   "metadata": {},
   "source": [
    "#### My Solution:"
   ]
  },
  {
   "cell_type": "markdown",
   "metadata": {},
   "source": [
    "$$ f_1''(\\xi) = 2\\beta_2 + 6\\beta_3\\xi $$"
   ]
  },
  {
   "cell_type": "markdown",
   "metadata": {},
   "source": [
    "$$ f_2''(\\xi) = 2(\\beta_2 - 3\\beta_4\\xi) + 6(\\beta_3 + \\beta_4)\\xi $$"
   ]
  },
  {
   "cell_type": "markdown",
   "metadata": {},
   "source": [
    "$$ = 2\\beta_2 - 6\\beta_4\\xi + 6\\beta_3\\xi + 6\\beta_4\\xi $$"
   ]
  },
  {
   "cell_type": "markdown",
   "metadata": {},
   "source": [
    "$$ = 2\\beta_2 + 6\\beta_3\\xi = f_1''(\\xi) $$"
   ]
  },
  {
   "cell_type": "markdown",
   "metadata": {},
   "source": [
    "#### Correct Solution:"
   ]
  },
  {
   "cell_type": "markdown",
   "metadata": {},
   "source": [
    "Same."
   ]
  },
  {
   "cell_type": "markdown",
   "metadata": {},
   "source": [
    "#### Corrections:"
   ]
  },
  {
   "cell_type": "markdown",
   "metadata": {},
   "source": [
    "None."
   ]
  },
  {
   "cell_type": "markdown",
   "metadata": {},
   "source": [
    "## 2."
   ]
  },
  {
   "cell_type": "markdown",
   "metadata": {},
   "source": [
    "### (a)"
   ]
  },
  {
   "cell_type": "markdown",
   "metadata": {},
   "source": [
    "$g(x)$ should be equal to 0 because its 0-derivative (i.e. itself) remains constant at 0, whose antiderivative would therefore be a constant, which would minimize the regularization term."
   ]
  },
  {
   "cell_type": "markdown",
   "metadata": {},
   "source": [
    "### (b)"
   ]
  },
  {
   "cell_type": "markdown",
   "metadata": {},
   "source": [
    "$g(x)$ should be a constant because its first derivative would be 0, whose antiderivative would be a constant, which would minimize the regularization term."
   ]
  },
  {
   "cell_type": "markdown",
   "metadata": {},
   "source": [
    "### (c)"
   ]
  },
  {
   "cell_type": "markdown",
   "metadata": {},
   "source": [
    "$g(x)$ should be linear because its second derivative would be 0, whose antiderivative would be a constant, which would minimize the regularization term."
   ]
  },
  {
   "cell_type": "markdown",
   "metadata": {},
   "source": [
    "### (d)"
   ]
  },
  {
   "cell_type": "markdown",
   "metadata": {},
   "source": [
    "$g(x)$ should be quadratic because its third derivative would be 0, whose antiderivative would be a constant, which would minimize the regularization term."
   ]
  },
  {
   "cell_type": "markdown",
   "metadata": {},
   "source": [
    "### (e)"
   ]
  },
  {
   "cell_type": "markdown",
   "metadata": {},
   "source": [
    "$g(x)$ should interpolate every value here because there is no regularization term (since $\\lambda = 0$)."
   ]
  },
  {
   "cell_type": "markdown",
   "metadata": {},
   "source": [
    "#### Correct Solution:"
   ]
  },
  {
   "cell_type": "markdown",
   "metadata": {},
   "source": [
    "<span style=\"color:red\">Not sure I believe the answers provided by the solution key.</span>"
   ]
  },
  {
   "cell_type": "markdown",
   "metadata": {},
   "source": [
    "#### Corrections"
   ]
  },
  {
   "cell_type": "markdown",
   "metadata": {},
   "source": [
    "See above."
   ]
  },
  {
   "cell_type": "markdown",
   "metadata": {},
   "source": [
    "## 3."
   ]
  }
 ],
 "metadata": {
  "kernelspec": {
   "display_name": "R",
   "language": "R",
   "name": "ir"
  },
  "language_info": {
   "codemirror_mode": "r",
   "file_extension": ".r",
   "mimetype": "text/x-r-source",
   "name": "R",
   "pygments_lexer": "r",
   "version": "3.1.0"
  }
 },
 "nbformat": 4,
 "nbformat_minor": 0
}
