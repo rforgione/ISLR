{
 "cells": [
  {
   "cell_type": "markdown",
   "metadata": {},
   "source": [
    "Note: all corrections come from [here](http://blog.princehonest.com/stat-learning/)."
   ]
  },
  {
   "cell_type": "markdown",
   "metadata": {},
   "source": [
    "# Conceptual"
   ]
  },
  {
   "cell_type": "markdown",
   "metadata": {},
   "source": [
    "## 1."
   ]
  },
  {
   "cell_type": "markdown",
   "metadata": {},
   "source": [
    "### (a)"
   ]
  },
  {
   "cell_type": "markdown",
   "metadata": {},
   "source": [
    "#### My Solution:"
   ]
  },
  {
   "cell_type": "markdown",
   "metadata": {},
   "source": [
    "$f_1 (x) = \\beta_0 + \\beta_1 x + \\beta_2 x^2 + \\beta_3 x^3 + \\beta_4(x - \\xi)^3 $"
   ]
  },
  {
   "cell_type": "markdown",
   "metadata": {},
   "source": [
    "#### Correct Solution:"
   ]
  },
  {
   "cell_type": "markdown",
   "metadata": {},
   "source": [
    "$f_1 (x) = \\beta_0 + \\beta_1 x + \\beta_2 x^2 + \\beta_3 x^3 $"
   ]
  },
  {
   "cell_type": "markdown",
   "metadata": {},
   "source": [
    "#### Corrections:"
   ]
  },
  {
   "cell_type": "markdown",
   "metadata": {},
   "source": [
    "For the cubic regression spline, we use the term $ (x - \\xi)_+^3 $ which is equal to $ (x - \\xi)^3 $ *if and only if* $ x > \\xi $. Since this question asks about scenarios where $ x \\leq \\xi $, the answer should actually be $ f_1 (x) = \\beta_0 + \\beta_1 x + \\beta_2 x^2 + \\beta_3 x^3 $ without the continuity term $ (x - \\xi)^3 $."
   ]
  },
  {
   "cell_type": "markdown",
   "metadata": {},
   "source": [
    "### (b)"
   ]
  },
  {
   "cell_type": "markdown",
   "metadata": {},
   "source": [
    "#### My Solution:"
   ]
  },
  {
   "cell_type": "markdown",
   "metadata": {},
   "source": [
    "$$ f_2(x) = \\beta_0 + \\beta_1x + \\beta_2x^2 + \\beta_3x^3 + \\beta_4(x - \\xi)^3 $$\n",
    "$$ = ... + (x - \\xi)(x - \\xi)(x - \\xi)$$\n",
    "$$ = ... + (x^2 - 2x\\xi + \\xi^2) (x - \\xi) $$\n",
    "$$ = ... + (x^3 - 2x^2\\xi + x\\xi^2) - (x^2\\xi - 2x\\xi^2 + \\xi^3) $$\n",
    "$$ = ... + x^3 - 2x^2\\xi + x\\xi^2 - x^2\\xi + 2x\\xi^2 - \\xi^3 $$\n",
    "$$ = ... + x^3 - 3x^2\\xi + 3x\\xi^2 - \\xi^3 $$"
   ]
  },
  {
   "cell_type": "markdown",
   "metadata": {},
   "source": [
    "#### Correct Solution:"
   ]
  },
  {
   "cell_type": "markdown",
   "metadata": {},
   "source": [
    "$$ f_2(x) = \\beta_0 + \\beta_1x + \\beta_2x^2 + \\beta_3x^3 + \\beta_4(x - \\xi)^3 $$\n",
    "$$ = ... + \\beta_4((x - \\xi)(x - \\xi)(x - \\xi))$$\n",
    "$$ = ... + \\beta_4((x^2 - 2x\\xi + \\xi^2) (x - \\xi)) $$\n",
    "$$ = ... + \\beta_4((x^3 - 2x^2\\xi + x\\xi^2) - (x^2\\xi - 2x\\xi^2 + \\xi^3)) $$\n",
    "$$ = ... + \\beta_4(x^3 - 2x^2\\xi + x\\xi^2 - x^2\\xi + 2x\\xi^2 - \\xi^3) $$\n",
    "$$ = ... + \\beta_4(x^3 - 3x^2\\xi + 3x\\xi^2 - \\xi^3) $$\n",
    "$$ f_2(x) = \\beta_0 + \\beta_1x + \\beta_2x^2 + \\beta_3x^3 + \\beta_4(x^3 - 3x^2\\xi + 3x\\xi^2 - \\xi^3) $$\n",
    "$$ = (\\beta_0 - \\beta_4\\xi^3) + (\\beta_1 + 3\\beta_4\\xi^2)x + (\\beta_2 - 3\\beta_4\\xi)x^2 + (\\beta_3 + \\beta_4)x^3 $$"
   ]
  },
  {
   "cell_type": "markdown",
   "metadata": {},
   "source": [
    "#### Corrections:"
   ]
  },
  {
   "cell_type": "markdown",
   "metadata": {},
   "source": [
    "Two issues here:\n",
    "1. I forgot to finally multiply all of these expanded terms by $\\beta_4$\n",
    "2. I could have simplified one step further\n",
    "\n",
    "$$ f_2(x) = \\beta_0 + \\beta_1x + \\beta_2x^2 + \\beta_3x^3 + \\beta_4(x^3 - 3x^2\\xi + 3x\\xi^2 - \\xi^3) $$\n",
    "$$ = (\\beta_0 - \\beta_4\\xi^3) + (\\beta_1 + 3\\beta_4\\xi^2)x + (\\beta_2 + 3\\beta_4\\xi)x^2 + (\\beta_3 + \\beta_4)x^3 $$"
   ]
  },
  {
   "cell_type": "markdown",
   "metadata": {},
   "source": [
    "### (c)"
   ]
  },
  {
   "cell_type": "markdown",
   "metadata": {},
   "source": [
    "###"
   ]
  },
  {
   "cell_type": "markdown",
   "metadata": {},
   "source": [
    "$$ f_1(\\xi) = \\beta_0 + \\beta_1\\xi + \\beta_2\\xi^2 + \\beta_3\\xi^3 $$<br/>\n",
    "$$ f_2(\\xi) = (\\beta_0 - \\beta_4\\xi^3) + (\\beta_1 + 3\\beta_4\\xi^2)\\xi + (\\beta_2 - 3\\beta_4\\xi)\\xi^2 + (\\beta_3 + \\beta_4)\\xi^3 $$ <br/>\n",
    "$$ = \\beta_0 - \\beta_4\\xi^3 + \\beta_1\\xi + 3\\beta_4\\xi^3 + \\beta_2\\xi^2 - 3\\beta_4\\xi^3 + \\beta_3\\xi^3 + \\beta_4\\xi^3 $$<br/>\n",
    "$$ = \\beta_0 + \\beta_1\\xi + \\beta_2\\xi^2 + \\beta_3\\xi^3 = f_1(\\xi) $$<br/>"
   ]
  },
  {
   "cell_type": "markdown",
   "metadata": {},
   "source": []
  }
 ],
 "metadata": {
  "kernelspec": {
   "display_name": "R",
   "language": "R",
   "name": "ir"
  },
  "language_info": {
   "codemirror_mode": "r",
   "file_extension": ".r",
   "mimetype": "text/x-r-source",
   "name": "R",
   "pygments_lexer": "r",
   "version": "3.1.0"
  }
 },
 "nbformat": 4,
 "nbformat_minor": 0
}
